{
 "cells": [
  {
   "cell_type": "markdown",
   "id": "89fce762-5abb-4d68-a625-2eb0f95c64b1",
   "metadata": {},
   "source": [
    "# **Online News Popularity Design**"
   ]
  },
  {
   "cell_type": "markdown",
   "id": "665b5603-ae95-49d7-88d5-162a05e485f9",
   "metadata": {},
   "source": [
    "### <span style=\"color: red\"> **Load Libraries**\n",
    "Load necessary R libraries."
   ]
  },
  {
   "cell_type": "code",
   "execution_count": 1,
   "id": "7c0cc8bb-b217-415d-b61f-6643edd8452d",
   "metadata": {
    "scrolled": true
   },
   "outputs": [
    {
     "name": "stderr",
     "output_type": "stream",
     "text": [
      "Loading required package: tidyverse\n",
      "\n",
      "── \u001b[1mAttaching core tidyverse packages\u001b[22m ──────────────────────────────────────────────────────────────── tidyverse 2.0.0 ──\n",
      "\u001b[32m✔\u001b[39m \u001b[34mdplyr    \u001b[39m 1.1.4     \u001b[32m✔\u001b[39m \u001b[34mreadr    \u001b[39m 2.1.4\n",
      "\u001b[32m✔\u001b[39m \u001b[34mforcats  \u001b[39m 1.0.0     \u001b[32m✔\u001b[39m \u001b[34mstringr  \u001b[39m 1.5.1\n",
      "\u001b[32m✔\u001b[39m \u001b[34mggplot2  \u001b[39m 3.4.4     \u001b[32m✔\u001b[39m \u001b[34mtibble   \u001b[39m 3.2.1\n",
      "\u001b[32m✔\u001b[39m \u001b[34mlubridate\u001b[39m 1.9.3     \u001b[32m✔\u001b[39m \u001b[34mtidyr    \u001b[39m 1.3.0\n",
      "\u001b[32m✔\u001b[39m \u001b[34mpurrr    \u001b[39m 1.0.2     \n",
      "── \u001b[1mConflicts\u001b[22m ────────────────────────────────────────────────────────────────────────────────── tidyverse_conflicts() ──\n",
      "\u001b[31m✖\u001b[39m \u001b[34mdplyr\u001b[39m::\u001b[32mfilter()\u001b[39m masks \u001b[34mstats\u001b[39m::filter()\n",
      "\u001b[31m✖\u001b[39m \u001b[34mdplyr\u001b[39m::\u001b[32mlag()\u001b[39m    masks \u001b[34mstats\u001b[39m::lag()\n",
      "\u001b[36mℹ\u001b[39m Use the conflicted package (\u001b[3m\u001b[34m<http://conflicted.r-lib.org/>\u001b[39m\u001b[23m) to force all conflicts to become errors\n",
      "Loading required package: GGally\n",
      "\n",
      "Registered S3 method overwritten by 'GGally':\n",
      "  method from   \n",
      "  +.gg   ggplot2\n",
      "\n",
      "Loading required package: gridExtra\n",
      "\n",
      "\n",
      "Attaching package: 'gridExtra'\n",
      "\n",
      "\n",
      "The following object is masked from 'package:dplyr':\n",
      "\n",
      "    combine\n",
      "\n",
      "\n",
      "Loading required package: cowplot\n",
      "\n",
      "\n",
      "Attaching package: 'cowplot'\n",
      "\n",
      "\n",
      "The following object is masked from 'package:lubridate':\n",
      "\n",
      "    stamp\n",
      "\n",
      "\n",
      "Loading required package: patchwork\n",
      "\n",
      "\n",
      "Attaching package: 'patchwork'\n",
      "\n",
      "\n",
      "The following object is masked from 'package:cowplot':\n",
      "\n",
      "    align_plots\n",
      "\n",
      "\n",
      "Loading required package: scales\n",
      "\n",
      "\n",
      "Attaching package: 'scales'\n",
      "\n",
      "\n",
      "The following object is masked from 'package:purrr':\n",
      "\n",
      "    discard\n",
      "\n",
      "\n",
      "The following object is masked from 'package:readr':\n",
      "\n",
      "    col_factor\n",
      "\n",
      "\n",
      "Loading required package: broom\n",
      "\n",
      "Loading required package: car\n",
      "\n",
      "Loading required package: carData\n",
      "\n",
      "\n",
      "Attaching package: 'car'\n",
      "\n",
      "\n",
      "The following object is masked from 'package:dplyr':\n",
      "\n",
      "    recode\n",
      "\n",
      "\n",
      "The following object is masked from 'package:purrr':\n",
      "\n",
      "    some\n",
      "\n",
      "\n",
      "Loading required package: leaps\n",
      "\n",
      "Loading required package: Hmisc\n",
      "\n",
      "\n",
      "Attaching package: 'Hmisc'\n",
      "\n",
      "\n",
      "The following objects are masked from 'package:dplyr':\n",
      "\n",
      "    src, summarize\n",
      "\n",
      "\n",
      "The following objects are masked from 'package:base':\n",
      "\n",
      "    format.pval, units\n",
      "\n",
      "\n",
      "Loading required package: psych\n",
      "\n",
      "\n",
      "Attaching package: 'psych'\n",
      "\n",
      "\n",
      "The following object is masked from 'package:Hmisc':\n",
      "\n",
      "    describe\n",
      "\n",
      "\n",
      "The following object is masked from 'package:car':\n",
      "\n",
      "    logit\n",
      "\n",
      "\n",
      "The following objects are masked from 'package:scales':\n",
      "\n",
      "    alpha, rescale\n",
      "\n",
      "\n",
      "The following objects are masked from 'package:ggplot2':\n",
      "\n",
      "    %+%, alpha\n",
      "\n",
      "\n",
      "Loading required package: httr\n",
      "\n"
     ]
    }
   ],
   "source": [
    "if (!require(\"tidyverse\")) {install.packages(\"tidyverse\")}\n",
    "if (!require(\"forcats\")) {install.packages(\"forcats\")}\n",
    "\n",
    "if (!require(\"GGally\")) {install.packages(\"GGally\")}\n",
    "if (!require(\"gridExtra\")) {install.packages(\"gridExtra\")}\n",
    "if (!require(\"cowplot\")) {install.packages(\"cowplot\")}\n",
    "if (!require(\"patchwork\")) {install.packages(\"patchwork\")}\n",
    "if (!require(\"scales\")) {install.packages(\"scales \")}\n",
    "\n",
    "if (!require(\"broom\")) {install.packages(\"broom\")}\n",
    "if (!require(\"car\")) {install.packages(\"car\")}\n",
    "if (!require(\"leaps\")) {install.packages(\"leaps\")}\n",
    "if (!require(\"Hmisc\")) {install.packages(\"Hmisc\")}\n",
    "if (!require(\"psych\")) {install.packages(\"psych\")}\n",
    "\n",
    "if (!require(\"utils\")) {install.packages(\"utils\")}\n",
    "if (!require(\"httr\")) {install.packages(\"httr\")}"
   ]
  },
  {
   "cell_type": "code",
   "execution_count": 2,
   "id": "283b009c-c76d-4c4a-91a0-ea84292bee86",
   "metadata": {
    "scrolled": true
   },
   "outputs": [
    {
     "name": "stderr",
     "output_type": "stream",
     "text": [
      "\n",
      "Attaching package: 'MASS'\n",
      "\n",
      "\n",
      "The following object is masked from 'package:patchwork':\n",
      "\n",
      "    area\n",
      "\n",
      "\n",
      "The following object is masked from 'package:dplyr':\n",
      "\n",
      "    select\n",
      "\n",
      "\n"
     ]
    }
   ],
   "source": [
    "# Data Import and Manipulation\n",
    "library(forcats)\n",
    "library(tidyverse) # includes: ggplot2, purr and readr\n",
    "\n",
    "# Data Visualization\n",
    "library(GGally)\n",
    "library(gridExtra)\n",
    "library(cowplot)\n",
    "library(patchwork)\n",
    "library(scales)\n",
    "\n",
    "# Statistical Analysis and Model Interpretation\n",
    "library(broom)\n",
    "library(car)\n",
    "library(leaps)\n",
    "library(Hmisc)\n",
    "library(psych)\n",
    "library(MASS)\n",
    "\n",
    "# General Utility\n",
    "library(utils)\n",
    "library(httr)"
   ]
  },
  {
   "cell_type": "markdown",
   "id": "1caed45e-6281-4528-b0f2-08e04e24f5c4",
   "metadata": {},
   "source": [
    "## <span style=\"color: red\">  Part 1: Preparing and Understanding the Data (Dataset Information)\n",
    "\n",
    "### <span style=\"color: red\"> 1.1 Introduction to Dataset:\n",
    "\n",
    "Our dataset is called **\"Online News Popularity\"** and is selected from UCI Machine Learning Repository. This dataset summarizes a heterogeneous set of features about articles published by Mashable in a period of two years. The articles were published by Mashable (www.mashable.com) and their content as the rights to reproduce it belongs to them. Hence, this dataset does not share the original content but some statistics associated with it. The original content be publicly accessed and retrieved using the provided urls. The goal of creating this dataset is to predict and make inference for the number of shares in news articles of various categories (popularity). pan>"
   ]
  },
  {
   "cell_type": "markdown",
   "id": "9f860f0e-ad1d-45a3-a960-4c4b07f9c50d",
   "metadata": {},
   "source": [
    "### <span style=\"color: red\">  1.2 Credits:\n",
    "\n",
    "Acknowledge the source.\n",
    "\n",
    "* The articles were published by Mashable (www.mashable.com) and their content as the rights to reproduce it belongs to them. Hence, this dataset does not share the original content but some statistics associated with it. The original content be publicly accessed and retrieved using the provided urls.\n",
    "* Acquisition date: January 8, 2015\n",
    "\n",
    ">The dataset is from UCI Machine Learning Repository, called \"Online News Popularity\".  \n",
    "DOI: https://doi.org/10.24432/C5NS3V  \n",
    "Authors: Kelwin Fernandes, Pedro Vinagre, Paulo Cortez, Pedro Sernadela.  Published in 2types\")</span>"
   ]
  },
  {
   "cell_type": "markdown",
   "id": "f7be83a8-7093-4889-82b8-e441f52b342a",
   "metadata": {},
   "source": [
    "### <span style=\"color: red\">  1.3 Read Data:\n",
    "\n",
    "Provide both relative and absolute paths for loading the dataset. Read the data into R. \n",
    "\n",
    "    Relative Path: \"data/OnlineNewsPopularity.csv\"\n",
    "\tAbsolute Path (GitHub): \"https://raw.githubusercontent.com/jasonllai/Stat-301-project-t36/main/OnlineNewsPopularity.csv\""
   ]
  },
  {
   "cell_type": "code",
   "execution_count": 3,
   "id": "dc7e70a0-c544-4b5b-b971-77084e24f351",
   "metadata": {
    "scrolled": true
   },
   "outputs": [
    {
     "data": {
      "text/html": [
       "<table class=\"dataframe\">\n",
       "<caption>A data.frame: 3 × 61</caption>\n",
       "<thead>\n",
       "\t<tr><th></th><th scope=col>url</th><th scope=col>timedelta</th><th scope=col>n_tokens_title</th><th scope=col>n_tokens_content</th><th scope=col>n_unique_tokens</th><th scope=col>n_non_stop_words</th><th scope=col>n_non_stop_unique_tokens</th><th scope=col>num_hrefs</th><th scope=col>num_self_hrefs</th><th scope=col>num_imgs</th><th scope=col>⋯</th><th scope=col>min_positive_polarity</th><th scope=col>max_positive_polarity</th><th scope=col>avg_negative_polarity</th><th scope=col>min_negative_polarity</th><th scope=col>max_negative_polarity</th><th scope=col>title_subjectivity</th><th scope=col>title_sentiment_polarity</th><th scope=col>abs_title_subjectivity</th><th scope=col>abs_title_sentiment_polarity</th><th scope=col>shares</th></tr>\n",
       "\t<tr><th></th><th scope=col>&lt;chr&gt;</th><th scope=col>&lt;dbl&gt;</th><th scope=col>&lt;dbl&gt;</th><th scope=col>&lt;dbl&gt;</th><th scope=col>&lt;dbl&gt;</th><th scope=col>&lt;dbl&gt;</th><th scope=col>&lt;dbl&gt;</th><th scope=col>&lt;dbl&gt;</th><th scope=col>&lt;dbl&gt;</th><th scope=col>&lt;dbl&gt;</th><th scope=col>⋯</th><th scope=col>&lt;dbl&gt;</th><th scope=col>&lt;dbl&gt;</th><th scope=col>&lt;dbl&gt;</th><th scope=col>&lt;dbl&gt;</th><th scope=col>&lt;dbl&gt;</th><th scope=col>&lt;dbl&gt;</th><th scope=col>&lt;dbl&gt;</th><th scope=col>&lt;dbl&gt;</th><th scope=col>&lt;dbl&gt;</th><th scope=col>&lt;int&gt;</th></tr>\n",
       "</thead>\n",
       "<tbody>\n",
       "\t<tr><th scope=row>1</th><td>http://mashable.com/2013/01/07/amazon-instant-video-browser/  </td><td>731</td><td>12</td><td>219</td><td>0.6635945</td><td>1</td><td>0.8153846</td><td>4</td><td>2</td><td>1</td><td>⋯</td><td>0.10000000</td><td>0.7</td><td>-0.3500000</td><td>-0.600</td><td>-0.2000000</td><td>0.5</td><td>-0.1875</td><td>0.0</td><td>0.1875</td><td> 593</td></tr>\n",
       "\t<tr><th scope=row>2</th><td>http://mashable.com/2013/01/07/ap-samsung-sponsored-tweets/   </td><td>731</td><td> 9</td><td>255</td><td>0.6047431</td><td>1</td><td>0.7919463</td><td>3</td><td>1</td><td>1</td><td>⋯</td><td>0.03333333</td><td>0.7</td><td>-0.1187500</td><td>-0.125</td><td>-0.1000000</td><td>0.0</td><td> 0.0000</td><td>0.5</td><td>0.0000</td><td> 711</td></tr>\n",
       "\t<tr><th scope=row>3</th><td>http://mashable.com/2013/01/07/apple-40-billion-app-downloads/</td><td>731</td><td> 9</td><td>211</td><td>0.5751295</td><td>1</td><td>0.6638655</td><td>3</td><td>1</td><td>1</td><td>⋯</td><td>0.10000000</td><td>1.0</td><td>-0.4666667</td><td>-0.800</td><td>-0.1333333</td><td>0.0</td><td> 0.0000</td><td>0.5</td><td>0.0000</td><td>1500</td></tr>\n",
       "</tbody>\n",
       "</table>\n"
      ],
      "text/latex": [
       "A data.frame: 3 × 61\n",
       "\\begin{tabular}{r|lllllllllllllllllllll}\n",
       "  & url & timedelta & n\\_tokens\\_title & n\\_tokens\\_content & n\\_unique\\_tokens & n\\_non\\_stop\\_words & n\\_non\\_stop\\_unique\\_tokens & num\\_hrefs & num\\_self\\_hrefs & num\\_imgs & ⋯ & min\\_positive\\_polarity & max\\_positive\\_polarity & avg\\_negative\\_polarity & min\\_negative\\_polarity & max\\_negative\\_polarity & title\\_subjectivity & title\\_sentiment\\_polarity & abs\\_title\\_subjectivity & abs\\_title\\_sentiment\\_polarity & shares\\\\\n",
       "  & <chr> & <dbl> & <dbl> & <dbl> & <dbl> & <dbl> & <dbl> & <dbl> & <dbl> & <dbl> & ⋯ & <dbl> & <dbl> & <dbl> & <dbl> & <dbl> & <dbl> & <dbl> & <dbl> & <dbl> & <int>\\\\\n",
       "\\hline\n",
       "\t1 & http://mashable.com/2013/01/07/amazon-instant-video-browser/   & 731 & 12 & 219 & 0.6635945 & 1 & 0.8153846 & 4 & 2 & 1 & ⋯ & 0.10000000 & 0.7 & -0.3500000 & -0.600 & -0.2000000 & 0.5 & -0.1875 & 0.0 & 0.1875 &  593\\\\\n",
       "\t2 & http://mashable.com/2013/01/07/ap-samsung-sponsored-tweets/    & 731 &  9 & 255 & 0.6047431 & 1 & 0.7919463 & 3 & 1 & 1 & ⋯ & 0.03333333 & 0.7 & -0.1187500 & -0.125 & -0.1000000 & 0.0 &  0.0000 & 0.5 & 0.0000 &  711\\\\\n",
       "\t3 & http://mashable.com/2013/01/07/apple-40-billion-app-downloads/ & 731 &  9 & 211 & 0.5751295 & 1 & 0.6638655 & 3 & 1 & 1 & ⋯ & 0.10000000 & 1.0 & -0.4666667 & -0.800 & -0.1333333 & 0.0 &  0.0000 & 0.5 & 0.0000 & 1500\\\\\n",
       "\\end{tabular}\n"
      ],
      "text/markdown": [
       "\n",
       "A data.frame: 3 × 61\n",
       "\n",
       "| <!--/--> | url &lt;chr&gt; | timedelta &lt;dbl&gt; | n_tokens_title &lt;dbl&gt; | n_tokens_content &lt;dbl&gt; | n_unique_tokens &lt;dbl&gt; | n_non_stop_words &lt;dbl&gt; | n_non_stop_unique_tokens &lt;dbl&gt; | num_hrefs &lt;dbl&gt; | num_self_hrefs &lt;dbl&gt; | num_imgs &lt;dbl&gt; | ⋯ ⋯ | min_positive_polarity &lt;dbl&gt; | max_positive_polarity &lt;dbl&gt; | avg_negative_polarity &lt;dbl&gt; | min_negative_polarity &lt;dbl&gt; | max_negative_polarity &lt;dbl&gt; | title_subjectivity &lt;dbl&gt; | title_sentiment_polarity &lt;dbl&gt; | abs_title_subjectivity &lt;dbl&gt; | abs_title_sentiment_polarity &lt;dbl&gt; | shares &lt;int&gt; |\n",
       "|---|---|---|---|---|---|---|---|---|---|---|---|---|---|---|---|---|---|---|---|---|---|\n",
       "| 1 | http://mashable.com/2013/01/07/amazon-instant-video-browser/   | 731 | 12 | 219 | 0.6635945 | 1 | 0.8153846 | 4 | 2 | 1 | ⋯ | 0.10000000 | 0.7 | -0.3500000 | -0.600 | -0.2000000 | 0.5 | -0.1875 | 0.0 | 0.1875 |  593 |\n",
       "| 2 | http://mashable.com/2013/01/07/ap-samsung-sponsored-tweets/    | 731 |  9 | 255 | 0.6047431 | 1 | 0.7919463 | 3 | 1 | 1 | ⋯ | 0.03333333 | 0.7 | -0.1187500 | -0.125 | -0.1000000 | 0.0 |  0.0000 | 0.5 | 0.0000 |  711 |\n",
       "| 3 | http://mashable.com/2013/01/07/apple-40-billion-app-downloads/ | 731 |  9 | 211 | 0.5751295 | 1 | 0.6638655 | 3 | 1 | 1 | ⋯ | 0.10000000 | 1.0 | -0.4666667 | -0.800 | -0.1333333 | 0.0 |  0.0000 | 0.5 | 0.0000 | 1500 |\n",
       "\n"
      ],
      "text/plain": [
       "  url                                                            timedelta\n",
       "1 http://mashable.com/2013/01/07/amazon-instant-video-browser/   731      \n",
       "2 http://mashable.com/2013/01/07/ap-samsung-sponsored-tweets/    731      \n",
       "3 http://mashable.com/2013/01/07/apple-40-billion-app-downloads/ 731      \n",
       "  n_tokens_title n_tokens_content n_unique_tokens n_non_stop_words\n",
       "1 12             219              0.6635945       1               \n",
       "2  9             255              0.6047431       1               \n",
       "3  9             211              0.5751295       1               \n",
       "  n_non_stop_unique_tokens num_hrefs num_self_hrefs num_imgs ⋯\n",
       "1 0.8153846                4         2              1        ⋯\n",
       "2 0.7919463                3         1              1        ⋯\n",
       "3 0.6638655                3         1              1        ⋯\n",
       "  min_positive_polarity max_positive_polarity avg_negative_polarity\n",
       "1 0.10000000            0.7                   -0.3500000           \n",
       "2 0.03333333            0.7                   -0.1187500           \n",
       "3 0.10000000            1.0                   -0.4666667           \n",
       "  min_negative_polarity max_negative_polarity title_subjectivity\n",
       "1 -0.600                -0.2000000            0.5               \n",
       "2 -0.125                -0.1000000            0.0               \n",
       "3 -0.800                -0.1333333            0.0               \n",
       "  title_sentiment_polarity abs_title_subjectivity abs_title_sentiment_polarity\n",
       "1 -0.1875                  0.0                    0.1875                      \n",
       "2  0.0000                  0.5                    0.0000                      \n",
       "3  0.0000                  0.5                    0.0000                      \n",
       "  shares\n",
       "1  593  \n",
       "2  711  \n",
       "3 1500  "
      ]
     },
     "metadata": {},
     "output_type": "display_data"
    }
   ],
   "source": [
    "raw_data <- read.csv(\"https://raw.githubusercontent.com/jasonllai/Stat-301-project-t36/main/OnlineNewsPopularity.csv\")\n",
    "head(raw_data, 3)"
   ]
  },
  {
   "cell_type": "markdown",
   "id": "e0073cd7-38ec-453f-bd33-0443a5beef91",
   "metadata": {
    "jp-MarkdownHeadingCollapsed": true,
    "jupyter": {
     "source_hidden": true
    }
   },
   "source": [
    "### 1.4 Variables:\n",
    "\n",
    "* `_url_`:     URL of the article (non-predictive)\n",
    "* `_timedelta_`:     Days between the article publication and the dataset acquisition (non-predictive)\n",
    "* `_n_tokens_title_`:     Number of words in the title \n",
    "* `_n_tokens_content_`:     Number of words in the content\n",
    "* `_n_unique_tokens_`:     Rate of unique words in the content (rate 1 - 10)\n",
    "* `_n_non_stop_words_`:      Rate of non-stop words in the content (rate 1 - 10)\n",
    "* `_n_non_stop_unique_tokens_`:     Rate of unique non-stop words in the content (rate 1 - 10)\n",
    "* `_num_hrefs_`:     Number of links\n",
    "* `_num_self_hrefs_`:     Number of links to other articles published by Mashable\n",
    "* `_num_imgs_`:     Number of images\n",
    "* `_num_videos_`:     Number of videos\n",
    "* `_average_token_length_`:      Average length of the words in the content\n",
    "* `_num_keywords_`:     Number of keywords in the metadata\n",
    "* `_data_channel_is_lifestyle_`:     Is data channel 'Lifestyle'? (Yes is 1, No is 0)\n",
    "* `_data_channel_is_entertainment_`:     Is data channel 'Entertainment'? (Yes is 1, No is 0)\n",
    "* `_data_channel_is_bus_`:     Is data channel 'Business'? (Yes is 1, No is 0)\n",
    "* `_data_channel_is_socmed_`:     Is data channel 'Social Media'? (Yes is 1, No is 0)\n",
    "* `_data_channel_is_tech_`:     Is data channel 'Tech'? (Yes is 1, No is 0)\n",
    "* `_data_channel_is_world_`:     Is data channel 'World'? (Yes is 1, No is 0)\n",
    "* `_kw_min_min_`:     Number of worst keywords in the artile with min shares\n",
    "* `_kw_max_min_`:     Number of worst keywords in the artile with max shares\n",
    "* `_kw_avg_min_`:     Number of worst keywords in the artile with avg shares\n",
    "* `_kw_min_max_`:     Best keyword (min. shares)\n",
    "* `_kw_max_max_`:     Best keyword (max. shares)\n",
    "* `_kw_avg_max_`:     Best keyword (avg. shares)\n",
    "* `_kw_min_avg_`:     Avg. keyword (min. shares)\n",
    "* `_kw_max_avg_`:     Avg. keyword (max. shares)\n",
    "* `_kw_avg_avg_`:     Avg. keyword (avg. shares)\n",
    "* `_self_reference_min_shares_`:     Min. shares of referenced articles in Mashable\n",
    "* `_self_reference_max_shares_`:     Max. shares of referenced articles in Mashable\n",
    "* `_self_reference_avg_sharess_`:     Avg. shares of referenced articles in Mashable\n",
    "* `_weekday_is_monday_`:     Was the article published on a Monday? (Yes is 1, No is 0)\n",
    "* `_weekday_is_tuesday_`:     Was the article published on a Tuesday? (Yes is 1, No is 0)\n",
    "* `_weekday_is_wednesday_`:     Was the article published on a Wednesday? (Yes is 1, No is 0)\n",
    "* `_weekday_is_thursday_`:     Was the article published on a Thursday? (Yes is 1, No is 0)\n",
    "* `_weekday_is_friday_`:     Was the article published on a Friday? (Yes is 1, No is 0)\n",
    "* `_weekday_is_saturday_`:     Was the article published on a Saturday? (Yes is 1, No is 0)\n",
    "* `_weekday_is_sunday_`:     Was the article published on a Sunday? (Yes is 1, No is 0)\n",
    "* `_is_weekend_`:     Was the article published on the weekend? (Yes is 1, No is 0)\n",
    "* `_LDA_00_`:     Closeness to LDA topic 0\n",
    "* `_LDA_01_`:     Closeness to LDA topic 1\n",
    "* `_LDA_02_`:     Closeness to LDA topic 2\n",
    "* `_LDA_03_`:     Closeness to LDA topic 3\n",
    "* `_LDA_04_`:     Closeness to LDA topic 4\n",
    "* `_global_subjectivity_`:     Text subjectivity (rate from 0 to 1)\n",
    "* `_global_sentiment_polarity_`:     Text sentiment polarity (rate from -1 to 1)\n",
    "* `_global_rate_positive_words_`:     Rate of positive words in the content (rate from 0 to 1)\n",
    "* `_global_rate_negative_words_`:     Rate of negative words in the content (rate from 0 to 1)\n",
    "* `_rate_positive_words_`:     Rate of positive words among non-neutral tokens (rate from 0 to 1)\n",
    "* `_rate_negative_words_`:     Rate of negative words among non-neutral tokens (rate from 0 to 1)\n",
    "* `_avg_positive_polarity_`:     Avg. polarity of positive words (from 0 to 1)\n",
    "* `_min_positive_polarity_`:     Min. polarity of positive words (from 0 to 1)\n",
    "* `_max_positive_polarity_`:     Max. polarity of positive words (from 0 to 1)\n",
    "* `_avg_negative_polarity_`:     Avg. polarity of negative  words (from 0 to 1)\n",
    "* `_min_negative_polarity_`:     Min. polarity of negative  words (from 0 to 1)\n",
    "* `_max_negative_polarity_`:     Max. polarity of negative  words (from 0 to 1)\n",
    "* `_title_subjectivity_`:     Title subjectivity (from 0 to 1)\n",
    "* `_title_sentiment_polarity_`:     Title polarity (from -1 to 1)\n",
    "* `_abs_title_subjectivity_`:     Absolute subjectivity level (from 0 to 1)\n",
    "* `_abs_title_sentiment_polarity_`:     Absolute polarity level(from 0 to 1)\n",
    "* `_shares_`:     Number of shares (target) **[RESPONSE VARIABLE]**"
   ]
  },
  {
   "cell_type": "markdown",
   "id": "0ea5d9de-ef85-4eda-8df7-4e3f3ca371dd",
   "metadata": {},
   "source": [
    "### <span style=\"color: red\">  1.5 Research Question:\n",
    "\n",
    "**Question:** Does the number of links and references to other articles (links and references to other articles, `num_hrefs` and `num_self_hrefs` respectively) and their popularity levels (average shares of the referenced articles, `self_reference_avg_sharess`) including the popularity level of the average keywords used (`kw_avg_avg`) influence the popularity of articles (`shares`) in the entertainment channel differently than in the tech channel?"
   ]
  },
  {
   "cell_type": "markdown",
   "id": "7b208335-8414-49ed-9484-72789c36a42a",
   "metadata": {},
   "source": [
    "## <span style=\"color: red\">  Part 2: Data Cleaning and Wrangling"
   ]
  },
  {
   "cell_type": "markdown",
   "id": "52a306c3-019f-4191-95f7-7f5d8bfe4b61",
   "metadata": {},
   "source": [
    "### <span style=\"color: red\">  2.1 Clean Data </span>"
   ]
  },
  {
   "cell_type": "markdown",
   "id": "bd8a7684-8135-457b-a896-7d64c3d067bb",
   "metadata": {},
   "source": [
    "#### <span style=\"color: red\">  2.1.1 Select Variables"
   ]
  },
  {
   "cell_type": "code",
   "execution_count": 5,
   "id": "d5c4355f-bc96-4536-b9fa-340912031b16",
   "metadata": {},
   "outputs": [
    {
     "data": {
      "text/html": [
       "<table class=\"dataframe\">\n",
       "<caption>A data.frame: 2 × 7</caption>\n",
       "<thead>\n",
       "\t<tr><th></th><th scope=col>num_hrefs</th><th scope=col>num_self_hrefs</th><th scope=col>data_channel_is_entertainment</th><th scope=col>data_channel_is_tech</th><th scope=col>kw_avg_avg</th><th scope=col>self_reference_avg_sharess</th><th scope=col>shares</th></tr>\n",
       "\t<tr><th></th><th scope=col>&lt;dbl&gt;</th><th scope=col>&lt;dbl&gt;</th><th scope=col>&lt;dbl&gt;</th><th scope=col>&lt;dbl&gt;</th><th scope=col>&lt;dbl&gt;</th><th scope=col>&lt;dbl&gt;</th><th scope=col>&lt;int&gt;</th></tr>\n",
       "</thead>\n",
       "<tbody>\n",
       "\t<tr><th scope=row>1</th><td>4</td><td>2</td><td>1</td><td>0</td><td>0</td><td>496</td><td>593</td></tr>\n",
       "\t<tr><th scope=row>2</th><td>3</td><td>1</td><td>0</td><td>0</td><td>0</td><td>  0</td><td>711</td></tr>\n",
       "</tbody>\n",
       "</table>\n"
      ],
      "text/latex": [
       "A data.frame: 2 × 7\n",
       "\\begin{tabular}{r|lllllll}\n",
       "  & num\\_hrefs & num\\_self\\_hrefs & data\\_channel\\_is\\_entertainment & data\\_channel\\_is\\_tech & kw\\_avg\\_avg & self\\_reference\\_avg\\_sharess & shares\\\\\n",
       "  & <dbl> & <dbl> & <dbl> & <dbl> & <dbl> & <dbl> & <int>\\\\\n",
       "\\hline\n",
       "\t1 & 4 & 2 & 1 & 0 & 0 & 496 & 593\\\\\n",
       "\t2 & 3 & 1 & 0 & 0 & 0 &   0 & 711\\\\\n",
       "\\end{tabular}\n"
      ],
      "text/markdown": [
       "\n",
       "A data.frame: 2 × 7\n",
       "\n",
       "| <!--/--> | num_hrefs &lt;dbl&gt; | num_self_hrefs &lt;dbl&gt; | data_channel_is_entertainment &lt;dbl&gt; | data_channel_is_tech &lt;dbl&gt; | kw_avg_avg &lt;dbl&gt; | self_reference_avg_sharess &lt;dbl&gt; | shares &lt;int&gt; |\n",
       "|---|---|---|---|---|---|---|---|\n",
       "| 1 | 4 | 2 | 1 | 0 | 0 | 496 | 593 |\n",
       "| 2 | 3 | 1 | 0 | 0 | 0 |   0 | 711 |\n",
       "\n"
      ],
      "text/plain": [
       "  num_hrefs num_self_hrefs data_channel_is_entertainment data_channel_is_tech\n",
       "1 4         2              1                             0                   \n",
       "2 3         1              0                             0                   \n",
       "  kw_avg_avg self_reference_avg_sharess shares\n",
       "1 0          496                        593   \n",
       "2 0            0                        711   "
      ]
     },
     "metadata": {},
     "output_type": "display_data"
    }
   ],
   "source": [
    "# Select variables of interest\n",
    "selected_data <- raw_data[, c(8, 9, 15, 18, 28, 31, 61)]\n",
    "\n",
    "head(selected_data, 2)"
   ]
  },
  {
   "cell_type": "markdown",
   "id": "6b444fa6-fea2-46d4-8a96-bdb51bf7fa91",
   "metadata": {},
   "source": [
    "#### <span style=\"color: red\">  2.1.2 Missing Values </span>"
   ]
  },
  {
   "cell_type": "code",
   "execution_count": 6,
   "id": "c8635795-6803-4bc9-9c77-f2e21bcb02fe",
   "metadata": {},
   "outputs": [
    {
     "name": "stdout",
     "output_type": "stream",
     "text": [
      "\n",
      "Dimensions and missing values:\n",
      "[1] \"The dataset consists of 39644 observations and 7 variables (6 + 1 response variable). There are no missing values in the dataset.\"\n"
     ]
    }
   ],
   "source": [
    "dims <- dim(selected_data)\n",
    "rows <- dims[1]\n",
    "columns <- dims[2]\n",
    "\n",
    "cat(\"\\nDimensions and missing values:\\n\")\n",
    "# Dimensions and NA check\n",
    "if (sum(is.na(selected_data)) == 0){\n",
    "    print(paste0(\"The dataset consists of \", as.character(rows), \" observations and \",  as.character(columns), \" variables (\", \n",
    "                 as.character(columns-1), \" + 1 response variable). There are no missing values in the dataset.\"))\n",
    "}"
   ]
  },
  {
   "cell_type": "markdown",
   "id": "c8f133eb-9a65-44e1-9076-31ff3714817f",
   "metadata": {},
   "source": [
    "#### <span style=\"color: red\"> 2.1.3 Data Types</span>\n",
    "Peak the data, convert data types appropriately, check for outliers and other inconsistencies. "
   ]
  },
  {
   "cell_type": "code",
   "execution_count": 8,
   "id": "053f983c-7940-48e6-9998-1b0063995456",
   "metadata": {},
   "outputs": [
    {
     "name": "stdout",
     "output_type": "stream",
     "text": [
      "'data.frame':\t39644 obs. of  7 variables:\n",
      " $ num_hrefs                    : int  4 3 3 9 19 2 21 20 2 4 ...\n",
      " $ num_self_hrefs               : int  2 1 1 0 19 2 20 20 0 1 ...\n",
      " $ data_channel_is_entertainment: int  1 0 0 1 0 0 0 0 0 0 ...\n",
      " $ data_channel_is_tech         : int  0 0 0 0 1 1 0 1 1 0 ...\n",
      " $ kw_avg_avg                   : num  0 0 0 0 0 0 0 0 0 0 ...\n",
      " $ self_reference_avg_sharess   : num  496 0 918 0 3151 ...\n",
      " $ shares                       : int  593 711 1500 1200 505 855 556 891 3600 710 ...\n"
     ]
    }
   ],
   "source": [
    "# Convert count variables to integer data type \n",
    "result <- sapply(selected_data, function(x) all(x == floor(x)))\n",
    "                 \n",
    "for (col in names(selected_data)) {\n",
    "    if (result[col]) {\n",
    "        selected_data[[col]] <- as.integer(selected_data[[col]])\n",
    "    }\n",
    "}\n",
    "str(selected_data)"
   ]
  },
  {
   "cell_type": "markdown",
   "id": "995cdcca-8878-42a2-be9c-6753103d0481",
   "metadata": {},
   "source": [
    "### <span style=\"color: red\"> 2.2 Wrangling\n",
    "\n",
    "Data transformation and renaming."
   ]
  },
  {
   "cell_type": "code",
   "execution_count": 9,
   "id": "32c7c742-6590-4f4c-bdc9-ee5dc233d83d",
   "metadata": {
    "scrolled": true
   },
   "outputs": [],
   "source": [
    "# Clean data\n",
    "news_data <- selected_data %>%\n",
    "  pivot_longer(\n",
    "    cols = starts_with(\"data_channel_is_\"),\n",
    "    names_to = \"channel_type\",\n",
    "    values_to = \"value\"\n",
    "  ) %>%\n",
    "  filter(value == 1) %>%\n",
    "  mutate(channel_type = case_when(\n",
    "    channel_type == \"data_channel_is_entertainment\" ~ \"Entertainment\",\n",
    "    channel_type == \"data_channel_is_tech\" ~ \"Tech\"),\n",
    "    channel_type = as.factor(channel_type)\n",
    "  ) %>%\n",
    "  dplyr::select(-value)\n",
    "\n",
    "# Change order of columns (categorical first, response last)\n",
    "news_data <- news_data[, c(ncol(news_data), 1:(ncol(news_data)-1))]"
   ]
  },
  {
   "cell_type": "code",
   "execution_count": 10,
   "id": "05ea2887-8c39-4839-b98e-ec39fb955a27",
   "metadata": {},
   "outputs": [],
   "source": [
    "# Readable column names\n",
    "news_data <- news_data %>%\n",
    "    rename(n_links = num_hrefs,\n",
    "           n_refs = num_self_hrefs,\n",
    "           avg_keyword_popularity = kw_avg_avg,\n",
    "           avg_ref_popularity = self_reference_avg_sharess)"
   ]
  },
  {
   "cell_type": "code",
   "execution_count": 12,
   "id": "18ce13ce-bde4-449d-a9e3-8e74ccfb77db",
   "metadata": {},
   "outputs": [
    {
     "data": {
      "text/html": [
       "<table class=\"dataframe\">\n",
       "<caption>A tibble: 3 × 6</caption>\n",
       "<thead>\n",
       "\t<tr><th scope=col>channel_type</th><th scope=col>n_links</th><th scope=col>n_refs</th><th scope=col>avg_keyword_popularity</th><th scope=col>avg_ref_popularity</th><th scope=col>shares</th></tr>\n",
       "\t<tr><th scope=col>&lt;fct&gt;</th><th scope=col>&lt;int&gt;</th><th scope=col>&lt;int&gt;</th><th scope=col>&lt;dbl&gt;</th><th scope=col>&lt;dbl&gt;</th><th scope=col>&lt;int&gt;</th></tr>\n",
       "</thead>\n",
       "<tbody>\n",
       "\t<tr><td>Entertainment</td><td> 4</td><td> 2</td><td>0</td><td> 496.000</td><td> 593</td></tr>\n",
       "\t<tr><td>Entertainment</td><td> 9</td><td> 0</td><td>0</td><td>   0.000</td><td>1200</td></tr>\n",
       "\t<tr><td>Tech         </td><td>19</td><td>19</td><td>0</td><td>3151.158</td><td> 505</td></tr>\n",
       "</tbody>\n",
       "</table>\n"
      ],
      "text/latex": [
       "A tibble: 3 × 6\n",
       "\\begin{tabular}{llllll}\n",
       " channel\\_type & n\\_links & n\\_refs & avg\\_keyword\\_popularity & avg\\_ref\\_popularity & shares\\\\\n",
       " <fct> & <int> & <int> & <dbl> & <dbl> & <int>\\\\\n",
       "\\hline\n",
       "\t Entertainment &  4 &  2 & 0 &  496.000 &  593\\\\\n",
       "\t Entertainment &  9 &  0 & 0 &    0.000 & 1200\\\\\n",
       "\t Tech          & 19 & 19 & 0 & 3151.158 &  505\\\\\n",
       "\\end{tabular}\n"
      ],
      "text/markdown": [
       "\n",
       "A tibble: 3 × 6\n",
       "\n",
       "| channel_type &lt;fct&gt; | n_links &lt;int&gt; | n_refs &lt;int&gt; | avg_keyword_popularity &lt;dbl&gt; | avg_ref_popularity &lt;dbl&gt; | shares &lt;int&gt; |\n",
       "|---|---|---|---|---|---|\n",
       "| Entertainment |  4 |  2 | 0 |  496.000 |  593 |\n",
       "| Entertainment |  9 |  0 | 0 |    0.000 | 1200 |\n",
       "| Tech          | 19 | 19 | 0 | 3151.158 |  505 |\n",
       "\n"
      ],
      "text/plain": [
       "  channel_type  n_links n_refs avg_keyword_popularity avg_ref_popularity shares\n",
       "1 Entertainment  4       2     0                       496.000            593  \n",
       "2 Entertainment  9       0     0                         0.000           1200  \n",
       "3 Tech          19      19     0                      3151.158            505  "
      ]
     },
     "metadata": {},
     "output_type": "display_data"
    },
    {
     "name": "stdout",
     "output_type": "stream",
     "text": [
      "tibble [14,403 × 6] (S3: tbl_df/tbl/data.frame)\n",
      " $ channel_type          : Factor w/ 2 levels \"Entertainment\",..: 1 1 2 2 2 2 2 2 2 2 ...\n",
      " $ n_links               : int [1:14403] 4 9 19 2 20 2 24 21 20 5 ...\n",
      " $ n_refs                : int [1:14403] 2 0 19 2 20 0 24 19 20 2 ...\n",
      " $ avg_keyword_popularity: num [1:14403] 0 0 0 0 0 0 0 0 0 0 ...\n",
      " $ avg_ref_popularity    : num [1:14403] 496 0 3151 8500 3151 ...\n",
      " $ shares                : int [1:14403] 593 1200 505 855 891 3600 17100 2800 445 783 ...\n"
     ]
    }
   ],
   "source": [
    "head(news_data, 3)\n",
    "str(news_data)"
   ]
  },
  {
   "cell_type": "markdown",
   "id": "dab39b84-e2d7-453d-99e5-e4697e1d53bd",
   "metadata": {},
   "source": [
    "## <span style=\"color: red\"> Part 3: Exploratory Data Analysis (EDA)\n",
    "\n",
    "- Conduct preliminary correlation analysis to understand relationships between variables.\n",
    "- Summarize main characteristics of the response variable `shares` and our main categorical variable `channel_types` through visualization and statistics.\n",
    "\n",
    "We start by graphically visualizing the distributions and spread of `shares` in different channel types from the `channel_type` variable using side-by-side boxplots. And to better understand the dispersion of `shares`, we will create a histogram and visualize the distrbituion of shares. "
   ]
  },
  {
   "cell_type": "markdown",
   "id": "6823aa17-0d6f-488a-97c9-3eb7dc1c7249",
   "metadata": {},
   "source": [
    "### <span style=\"color: red\"> 3.1 Basic Summary Statistics\n",
    "\n",
    "#### <span style=\"color: red\"> 3.1.1 Measures of Central Tendency and Dispersion"
   ]
  },
  {
   "cell_type": "code",
   "execution_count": 13,
   "id": "97586147-cdb4-4133-a263-fe64d2c7d728",
   "metadata": {},
   "outputs": [
    {
     "name": "stdout",
     "output_type": "stream",
     "text": [
      "\n",
      "Measures of Central Tendency and Measures of Dispersion:\n"
     ]
    },
    {
     "data": {
      "text/html": [
       "<table class=\"dataframe\">\n",
       "<caption>A psych: 5 × 14</caption>\n",
       "<thead>\n",
       "\t<tr><th></th><th scope=col>vars</th><th scope=col>n</th><th scope=col>mean</th><th scope=col>sd</th><th scope=col>median</th><th scope=col>trimmed</th><th scope=col>mad</th><th scope=col>min</th><th scope=col>max</th><th scope=col>range</th><th scope=col>skew</th><th scope=col>kurtosis</th><th scope=col>se</th><th scope=col>variance</th></tr>\n",
       "\t<tr><th></th><th scope=col>&lt;dbl&gt;</th><th scope=col>&lt;dbl&gt;</th><th scope=col>&lt;dbl&gt;</th><th scope=col>&lt;dbl&gt;</th><th scope=col>&lt;dbl&gt;</th><th scope=col>&lt;dbl&gt;</th><th scope=col>&lt;dbl&gt;</th><th scope=col>&lt;dbl&gt;</th><th scope=col>&lt;dbl&gt;</th><th scope=col>&lt;dbl&gt;</th><th scope=col>&lt;dbl&gt;</th><th scope=col>&lt;dbl&gt;</th><th scope=col>&lt;dbl&gt;</th><th scope=col>&lt;dbl&gt;</th></tr>\n",
       "</thead>\n",
       "<tbody>\n",
       "\t<tr><th scope=row>n_links</th><td>2</td><td>14403</td><td>  10.04</td><td>   10.92</td><td>   7.00</td><td>   8.08</td><td>   4.45</td><td> 0</td><td>   304.00</td><td>   304.00</td><td> 5.22</td><td>  66.97</td><td>  0.09</td><td>      119.25</td></tr>\n",
       "\t<tr><th scope=row>n_refs</th><td>3</td><td>14403</td><td>   4.08</td><td>    4.31</td><td>   3.00</td><td>   3.42</td><td>   2.97</td><td> 0</td><td>   116.00</td><td>   116.00</td><td> 4.76</td><td>  53.33</td><td>  0.04</td><td>       18.58</td></tr>\n",
       "\t<tr><th scope=row>avg_keyword_popularity</th><td>4</td><td>14403</td><td>2946.97</td><td>  954.50</td><td>2825.76</td><td>2864.69</td><td> 625.36</td><td> 0</td><td> 36023.42</td><td> 36023.42</td><td> 5.98</td><td> 137.54</td><td>  7.95</td><td>   911070.25</td></tr>\n",
       "\t<tr><th scope=row>avg_ref_popularity</th><td>5</td><td>14403</td><td>6150.63</td><td>24658.12</td><td>2466.67</td><td>3144.38</td><td>2310.38</td><td> 0</td><td>663600.00</td><td>663600.00</td><td>18.60</td><td> 434.07</td><td>205.46</td><td>608022881.93</td></tr>\n",
       "\t<tr><th scope=row>shares</th><td>6</td><td>14403</td><td>3022.41</td><td> 8472.88</td><td>1400.00</td><td>1825.69</td><td> 889.56</td><td>36</td><td>663600.00</td><td>663564.00</td><td>38.33</td><td>2649.78</td><td> 70.60</td><td> 71789695.49</td></tr>\n",
       "</tbody>\n",
       "</table>\n"
      ],
      "text/latex": [
       "A psych: 5 × 14\n",
       "\\begin{tabular}{r|llllllllllllll}\n",
       "  & vars & n & mean & sd & median & trimmed & mad & min & max & range & skew & kurtosis & se & variance\\\\\n",
       "  & <dbl> & <dbl> & <dbl> & <dbl> & <dbl> & <dbl> & <dbl> & <dbl> & <dbl> & <dbl> & <dbl> & <dbl> & <dbl> & <dbl>\\\\\n",
       "\\hline\n",
       "\tn\\_links & 2 & 14403 &   10.04 &    10.92 &    7.00 &    8.08 &    4.45 &  0 &    304.00 &    304.00 &  5.22 &   66.97 &   0.09 &       119.25\\\\\n",
       "\tn\\_refs & 3 & 14403 &    4.08 &     4.31 &    3.00 &    3.42 &    2.97 &  0 &    116.00 &    116.00 &  4.76 &   53.33 &   0.04 &        18.58\\\\\n",
       "\tavg\\_keyword\\_popularity & 4 & 14403 & 2946.97 &   954.50 & 2825.76 & 2864.69 &  625.36 &  0 &  36023.42 &  36023.42 &  5.98 &  137.54 &   7.95 &    911070.25\\\\\n",
       "\tavg\\_ref\\_popularity & 5 & 14403 & 6150.63 & 24658.12 & 2466.67 & 3144.38 & 2310.38 &  0 & 663600.00 & 663600.00 & 18.60 &  434.07 & 205.46 & 608022881.93\\\\\n",
       "\tshares & 6 & 14403 & 3022.41 &  8472.88 & 1400.00 & 1825.69 &  889.56 & 36 & 663600.00 & 663564.00 & 38.33 & 2649.78 &  70.60 &  71789695.49\\\\\n",
       "\\end{tabular}\n"
      ],
      "text/markdown": [
       "\n",
       "A psych: 5 × 14\n",
       "\n",
       "| <!--/--> | vars &lt;dbl&gt; | n &lt;dbl&gt; | mean &lt;dbl&gt; | sd &lt;dbl&gt; | median &lt;dbl&gt; | trimmed &lt;dbl&gt; | mad &lt;dbl&gt; | min &lt;dbl&gt; | max &lt;dbl&gt; | range &lt;dbl&gt; | skew &lt;dbl&gt; | kurtosis &lt;dbl&gt; | se &lt;dbl&gt; | variance &lt;dbl&gt; |\n",
       "|---|---|---|---|---|---|---|---|---|---|---|---|---|---|---|\n",
       "| n_links | 2 | 14403 |   10.04 |    10.92 |    7.00 |    8.08 |    4.45 |  0 |    304.00 |    304.00 |  5.22 |   66.97 |   0.09 |       119.25 |\n",
       "| n_refs | 3 | 14403 |    4.08 |     4.31 |    3.00 |    3.42 |    2.97 |  0 |    116.00 |    116.00 |  4.76 |   53.33 |   0.04 |        18.58 |\n",
       "| avg_keyword_popularity | 4 | 14403 | 2946.97 |   954.50 | 2825.76 | 2864.69 |  625.36 |  0 |  36023.42 |  36023.42 |  5.98 |  137.54 |   7.95 |    911070.25 |\n",
       "| avg_ref_popularity | 5 | 14403 | 6150.63 | 24658.12 | 2466.67 | 3144.38 | 2310.38 |  0 | 663600.00 | 663600.00 | 18.60 |  434.07 | 205.46 | 608022881.93 |\n",
       "| shares | 6 | 14403 | 3022.41 |  8472.88 | 1400.00 | 1825.69 |  889.56 | 36 | 663600.00 | 663564.00 | 38.33 | 2649.78 |  70.60 |  71789695.49 |\n",
       "\n"
      ],
      "text/plain": [
       "                       vars n     mean    sd       median  trimmed mad     min\n",
       "n_links                2    14403   10.04    10.92    7.00    8.08    4.45  0 \n",
       "n_refs                 3    14403    4.08     4.31    3.00    3.42    2.97  0 \n",
       "avg_keyword_popularity 4    14403 2946.97   954.50 2825.76 2864.69  625.36  0 \n",
       "avg_ref_popularity     5    14403 6150.63 24658.12 2466.67 3144.38 2310.38  0 \n",
       "shares                 6    14403 3022.41  8472.88 1400.00 1825.69  889.56 36 \n",
       "                       max       range     skew  kurtosis se     variance    \n",
       "n_links                   304.00    304.00  5.22   66.97    0.09       119.25\n",
       "n_refs                    116.00    116.00  4.76   53.33    0.04        18.58\n",
       "avg_keyword_popularity  36023.42  36023.42  5.98  137.54    7.95    911070.25\n",
       "avg_ref_popularity     663600.00 663600.00 18.60  434.07  205.46 608022881.93\n",
       "shares                 663600.00 663564.00 38.33 2649.78   70.60  71789695.49"
      ]
     },
     "metadata": {},
     "output_type": "display_data"
    }
   ],
   "source": [
    "cat(\"\\nMeasures of Central Tendency and Measures of Dispersion:\\n\")\n",
    "description <- round(psych::describe(news_data), 2)\n",
    "\n",
    "description$variance <- description$sd^2\n",
    "\n",
    "round(slice(description, 2:n()), 2)"
   ]
  },
  {
   "cell_type": "markdown",
   "id": "9ff46941-a0dd-4d35-b1fb-3a4935d13239",
   "metadata": {},
   "source": [
    "#### <span style=\"color: red\"> 3.1.2 Outliers\n",
    "\n",
    "1. The response variable `shares` is extremely skewed. Suggesting the presence of outliers. \n",
    "- **mean** = 3022.41\n",
    "- **variance** = 71789695.49\n",
    "- **skew** = 38.33\n",
    "- **kurtosis** = 2649.78\n",
    "\n",
    "Since we don't have a specialist who can guide us through detecting outliers, we will be <span style=\"color: red\"> investigating each extreme value ourselves </span> to see if they are valid data or needs to be removed. This can be;\n",
    "- An article that doesn't belong to Tech or Entertainment, and should be in one of the other categories that aren't of our interest (World, Social Media, Business, Lifestyle)\n",
    "- A data entry error (such as an empty article, or link that doesn't work)"
   ]
  },
  {
   "cell_type": "code",
   "execution_count": 19,
   "id": "84a331f8-4ee5-4c1d-b588-b15551c54b37",
   "metadata": {
    "collapsed": true,
    "jupyter": {
     "outputs_hidden": true,
     "source_hidden": true
    },
    "scrolled": true
   },
   "outputs": [
    {
     "name": "stdout",
     "output_type": "stream",
     "text": [
      "$`shares: 663600`\n",
      "[1] \"http://mashable.com/2014/04/09/first-100-gilt-soundcloud-stitchfix/\"\n",
      "\n",
      "$`shares: 210300`\n",
      "[1] \"http://mashable.com/2013/07/12/sprint-unlimited-data-for-life/\"\n",
      "\n",
      "$`shares: 197600`\n",
      "[1] \"http://mashable.com/2013/12/25/xbox-one-getting-started/\"\n",
      "\n",
      "$`shares: 193400`\n",
      "[1] \"http://mashable.com/2013/12/26/mcdonalds-kills-mcresource-line/\"\n",
      "\n",
      "$`shares: 138700`\n",
      "[1] \"http://mashable.com/2013/08/28/6000-video-launched-helloflo/\"\n",
      "\n",
      "$`shares: 112600`\n",
      "[1] \"http://mashable.com/2014/02/10/flappy-bird-typing-tutor/\"\n",
      "\n",
      "$`shares: 109500`\n",
      "[1] \"http://mashable.com/2014/10/14/sandworm-russian-hackers-nato-with-microsoft-bug-ukraine-nato/\"\n",
      "\n",
      "$`shares: 109100`\n",
      "[1] \"http://mashable.com/2014/05/28/lookout-theft-protection/\"\n",
      "\n",
      "$`shares: 104100`\n",
      "[1] \"http://mashable.com/2013/07/05/google-field-trip-july-free/\"\n",
      "[2] \"http://mashable.com/2013/12/02/jane-austen-single-quotes/\"  \n",
      "\n",
      "$`shares: 98500`\n",
      "[1] \"http://mashable.com/2014/09/10/australian-tested-ebola-virus/\"\n",
      "\n",
      "$`shares: 98000`\n",
      "[1] \"http://mashable.com/2014/01/14/facebook-yandex-partnership/\"\n",
      "\n",
      "$`shares: 96100`\n",
      "[1] \"http://mashable.com/2013/08/24/instagram-acquires-luma/\"\n",
      "\n",
      "$`shares: 96000`\n",
      "[1] \"http://mashable.com/2014/05/05/apple-v-samsung-update/\"\n",
      "\n",
      "$`shares: 88500`\n",
      "[1] \"http://mashable.com/2014/01/21/kiev-ukraine-protest-photos/\"\n",
      "\n",
      "$`shares: 87600`\n",
      "[1] \"http://mashable.com/2014/11/23/employee-morale-holidays/\"\n",
      "\n",
      "$`shares: 83300`\n",
      "[1] \"http://mashable.com/2013/12/01/amazon-drops-kindle-fire-prices-for-cyber-monday/\"\n",
      "\n",
      "$`shares: 82200`\n",
      "[1] \"http://mashable.com/2014/09/05/fall-activity-guide-seattle/\"\n",
      "\n",
      "$`shares: 77600`\n",
      "[1] \"http://mashable.com/2013/10/30/tesla-west-coast-free/\"\n",
      "\n",
      "$`shares: 77200`\n",
      "[1] \"http://mashable.com/2014/09/07/things-you-can-buy-for-a-dollar/\"\n",
      "\n",
      "$`shares: 75600`\n",
      "[1] \"http://mashable.com/2014/03/31/google-plus-twitter-engagement/\"\n",
      "\n"
     ]
    }
   ],
   "source": [
    "top_shares <- head(sort(news_data$shares, decreasing = TRUE), 20)\n",
    "# max_shares\n",
    "\n",
    "for (t in top_shares) {\n",
    "    # list for the links\n",
    "    top_links = list()\n",
    "    # pull links for each smax share\n",
    "    i <- raw_data %>% filter(shares == t) %>% pull(url)\n",
    "    top_links[[paste0(\"shares: \", t)]] <- i\n",
    "\n",
    "    print(top_links)\n",
    "}"
   ]
  },
  {
   "cell_type": "markdown",
   "id": "596ec108-2dfe-46e6-8317-20f53db4986b",
   "metadata": {},
   "source": [
    "After investigating each article with top shares, we saw that <span style=\"color: red\"> there are no data entry errors </span> and most articles clearly represented their designated channels. We will **keep all data** and continue the analysis. "
   ]
  },
  {
   "cell_type": "markdown",
   "id": "2ec5bd2f-e4f7-441c-8417-b391aa9afc19",
   "metadata": {},
   "source": [
    "#### <span style=\"color: red\"> 3.1.3 Overdispersion Test\n",
    "\n",
    "We will be conducting an _**overdispersion test**_ based on the residuals of a Poisson regression model, to determine if _**Poisson Regression**_ or _**Negative Binomial Regression**_ is a better fit for our analysis."
   ]
  },
  {
   "cell_type": "code",
   "execution_count": 18,
   "id": "0c47b007-525a-4719-b8ba-6b2eab5d8331",
   "metadata": {
    "collapsed": true,
    "jupyter": {
     "outputs_hidden": true
    }
   },
   "outputs": [
    {
     "data": {
      "text/plain": [
       "\n",
       "Call:\n",
       "lm(formula = overdispersion_test ~ predicted_counts - 1, data = news_data)\n",
       "\n",
       "Residuals:\n",
       "       Min         1Q     Median         3Q        Max \n",
       "-1.261e+09 -2.195e+08 -2.009e+08 -1.843e+08  4.351e+11 \n",
       "\n",
       "Coefficients:\n",
       "                 Estimate Std. Error t value Pr(>|t|)    \n",
       "predicted_counts    71342       8581   8.314   <2e-16 ***\n",
       "---\n",
       "Signif. codes:  0 '***' 0.001 '**' 0.01 '*' 0.05 '.' 0.1 ' ' 1\n",
       "\n",
       "Residual standard error: 3.687e+09 on 14402 degrees of freedom\n",
       "Multiple R-squared:  0.004777,\tAdjusted R-squared:  0.004708 \n",
       "F-statistic: 69.13 on 1 and 14402 DF,  p-value: < 2.2e-16\n"
      ]
     },
     "metadata": {},
     "output_type": "display_data"
    }
   ],
   "source": [
    "# Fit a Poisson regression model\n",
    "poisson_model <- glm(shares ~ channel_type + n_links + n_refs + avg_keyword_popularity + avg_ref_popularity, \n",
    "                     family = poisson(link = \"log\"), data = news_data)\n",
    "\n",
    "# Get the predicted counts from the Poisson model\n",
    "predicted_counts <- predict(poisson_model, type = \"response\")\n",
    "\n",
    "# Calculate the quantity for testing overdispersion according to the given formula\n",
    "news_data$overdispersion_test <- (news_data$shares - predicted_counts)^2 - news_data$shares\n",
    "\n",
    "# Fit an OLS model without intercept to test for overdispersion\n",
    "overdispersion_model <- lm(overdispersion_test ~ predicted_counts - 1, data = news_data)\n",
    "\n",
    "# Check the summary for p-value\n",
    "summary(overdispersion_model)"
   ]
  },
  {
   "cell_type": "markdown",
   "id": "1228a637-b735-4e67-91c7-991fe98c1997",
   "metadata": {},
   "source": [
    "Since the <span style=\"color: red\">  **p-value** is low (p < 2e-16)</span>, it suggests that  <span style=\"color: red\">  there is _**overdispersion**_ </span> in the data. Thus, we'll be using <span style=\"color: red\">  _**Negative Binomial Regression**_.</span>"
   ]
  },
  {
   "cell_type": "markdown",
   "id": "e3bf2547-ee05-483f-b5ef-7e6026c12ec2",
   "metadata": {},
   "source": [
    "#### <span style=\"color: red\"> 3.1.4 Zero-inflated test \n"
   ]
  },
  {
   "cell_type": "code",
   "execution_count": 26,
   "id": "c8478b2d-6e83-407c-89d9-6534f32ec40f",
   "metadata": {},
   "outputs": [
    {
     "data": {
      "image/png": "[encoded data removed]",
      "text/plain": [
       "Plot with title \"Histogram of news_data$shares\""
      ]
     },
     "metadata": {
      "image/png": {
       "height": 420,
       "width": 420
      }
     },
     "output_type": "display_data"
    }
   ],
   "source": [
    "hist(news_data$shares, breaks = 1000, xlim = c(0,10000))"
   ]
  },
  {
   "cell_type": "code",
   "execution_count": 28,
   "id": "87f6e12c-ef2a-4f44-8c4b-c8d11c382d83",
   "metadata": {
    "collapsed": true,
    "jupyter": {
     "outputs_hidden": true
    }
   },
   "outputs": [
    {
     "data": {
      "text/plain": [
       "\n",
       "    36     47     49     50     51     57     58     59     64     65     80 \n",
       "     1      1      2      1      1      1      1      1      2      1      1 \n",
       "    82     84     86     88     90     92     95     98    104    109    116 \n",
       "     2      1      1      2      1      1      1      1      1      1      1 \n",
       "   119    123    137    138    140    144    158    162    164    168    171 \n",
       "     1      1      1      1      1      1      1      1      1      1      1 \n",
       "   176    181    183    192    199    201    202    205    206    211    213 \n",
       "     1      2      1      1      1      1      1      2      1      1      1 \n",
       "   217    218    220    221    223    224    228    232    233    242    250 \n",
       "     2      1      1      1      1      1      1      1      1      1      1 \n",
       "   256    257    262    264    269    279    280    282    285    286    287 \n",
       "     1      1      2      2      1      1      1      1      1      2      1 \n",
       "   291    294    295    302    303    305    313    319    322    323    331 \n",
       "     1      2      1      1      1      1      1      1      1      1      1 \n",
       "   338    339    342    343    346    349    350    356    357    358    360 \n",
       "     1      1      2      1      2      2      2      1      1      1      1 \n",
       "   363    366    367    368    369    370    371    372    374    375    377 \n",
       "     1      2      1      2      2      1      2      1      1      2      2 \n",
       "   379    380    381    382    383    384    387    389    392    393    394 \n",
       "     4      1      1      3      1      2      1      1      1      1      2 \n",
       "   395    396    400    401    402    403    404    405    407    409    410 \n",
       "     2      2      1      1      1      4      2      2      3      1      4 \n",
       "   411    412    413    414    415    416    417    419    420    421    422 \n",
       "     3      1      4      1      1      5      1      1      1      1      2 \n",
       "   423    424    425    426    427    428    429    430    432    434    436 \n",
       "     2      1      2      2      3      1      4      2      2      1      4 \n",
       "   437    438    440    441    444    445    446    447    448    449    450 \n",
       "     1      3      2      1      3      2      2      3      6      1      2 \n",
       "   451    452    453    454    455    456    457    458    459    461    462 \n",
       "     2      1      1      4      3      2      1      2      1      4      2 \n",
       "   463    464    465    466    467    468    469    471    472    473    474 \n",
       "     3      4      2      1      3      5      4      1      1      7      3 \n",
       "   475    476    477    478    479    480    481    484    485    486    487 \n",
       "     5      1      4      4      4      3      2      8      7      2      1 \n",
       "   488    489    490    491    492    493    494    495    496    497    498 \n",
       "     4      4      4      3      5      3      2      2      4      5      4 \n",
       "   499    500    501    502    503    504    505    506    507    508    509 \n",
       "     2      9      2      1      6      2      1      4      2      3      3 \n",
       "   510    511    512    513    514    515    516    517    518    519    520 \n",
       "     5      3      4      2      1      2      3      3      3      8      2 \n",
       "   521    522    523    524    525    526    527    528    529    530    531 \n",
       "     3      4      4      1      4      7      5      3      1      4      3 \n",
       "   532    533    534    535    536    537    538    539    540    541    542 \n",
       "     5      4      2      5      8      3      4      4      5      3      7 \n",
       "   543    544    545    546    547    548    549    550    551    552    553 \n",
       "     5      4      3      2      4      4      7      5      4      5      3 \n",
       "   554    555    556    557    558    559    560    561    562    563    564 \n",
       "     4      4      8      7      2      4      6      1      2      6      1 \n",
       "   565    566    567    568    569    570    571    572    573    574    575 \n",
       "     4      3      5      3      9      4      7      2      3      5      4 \n",
       "   576    577    578    579    580    581    582    583    584    585    586 \n",
       "     5      3     10      6      3     11      6      2      2      6      3 \n",
       "   587    588    589    590    591    592    593    594    595    596    597 \n",
       "     9      2      5      5      2      3      7      6      5      5      7 \n",
       "   598    599    600    601    602    603    604    605    606    607    608 \n",
       "     5      6      7      3      7      4      5      7      8      1      3 \n",
       "   609    610    612    613    614    615    616    617    618    619    620 \n",
       "     4      7      9      7      1      4      5      4      6      3      2 \n",
       "   621    622    623    624    625    626    627    628    629    630    631 \n",
       "     9      5      3      6      5      5      7      2      6      6      5 \n",
       "   632    633    634    635    637    638    639    640    641    642    643 \n",
       "     1      5      7      4      3      9      5      9      5     10      3 \n",
       "   644    645    646    647    648    649    650    651    652    653    654 \n",
       "     7      8      5      4      3      6      3      7      2      4      4 \n",
       "   655    656    657    658    659    660    661    662    663    664    665 \n",
       "     6      9      7      8     13      6      7      7      5      8      7 \n",
       "   666    667    668    669    670    671    672    673    674    675    676 \n",
       "     5      6      4      9      7      7      6      2      8     10      8 \n",
       "   677    678    679    680    681    682    683    684    685    686    687 \n",
       "     5     10      5      5      9      5      4      4      4      7      9 \n",
       "   688    689    690    691    692    693    694    695    696    697    698 \n",
       "    12      7     10      7      7      6      4      7      7      5     11 \n",
       "   699    700    701    702    703    704    705    706    707    708    709 \n",
       "     9      6     10      4      7      6      8      5      5      7      6 \n",
       "   710    711    712    713    714    715    716    717    718    719    720 \n",
       "     9      7     12      6      4      9     11      5      9     10      8 \n",
       "   721    722    723    724    725    726    727    728    729    730    731 \n",
       "     4      9      6      8      8      8      8     11      6      8     11 \n",
       "   732    733    734    735    736    737    738    739    740    741    742 \n",
       "    10      7      4      7      6      5     10      9      6     13     12 \n",
       "   743    744    745    746    747    748    749    750    751    752    753 \n",
       "     8     11      7      8      7      8      9      8     10      5     13 \n",
       "   754    755    756    757    758    759    760    761    762    763    764 \n",
       "    10     16      9     11      6     10     11      4      5      5      4 \n",
       "   765    766    767    768    769    770    771    772    773    774    775 \n",
       "     7      5      5     14      8      4     13      6     13      9     12 \n",
       "   776    777    778    779    780    781    782    783    784    785    786 \n",
       "    13     10      6      6      7      6      8     13      9      6     13 \n",
       "   787    788    789    790    791    792    793    794    795    796    797 \n",
       "    11     15      9     11     13      7      3      7      7     10     11 \n",
       "   798    799    800    801    802    803    804    805    806    807    808 \n",
       "    14      8      6      7     15      8      5      7      4      6     13 \n",
       "   809    810    811    812    813    814    815    816    817    818    819 \n",
       "     7     11     11     10      5      6     12     12     13     10      7 \n",
       "   820    821    822    823    824    825    826    827    828    829    830 \n",
       "    13     12      9     12     11      8      7     12      9      9     10 \n",
       "   831    832    833    834    835    836    837    838    839    840    841 \n",
       "    11      9     13      9      9      5      3     10      8     11     13 \n",
       "   842    843    844    845    846    847    848    849    850    851    852 \n",
       "    11      7     13     14      8     10      5      9     17     11      7 \n",
       "   853    854    855    856    857    858    859    860    861    862    863 \n",
       "    15     14      8      8     10      3     14     17     14     10     13 \n",
       "   864    865    866    867    868    869    870    871    872    873    874 \n",
       "     9      9     11      8      7      7     15     11     10      8      9 \n",
       "   875    876    877    878    879    880    881    882    883    884    885 \n",
       "    13      7     12     16     10     11      9     15      7      5      6 \n",
       "   886    887    888    889    890    891    892    893    894    895    896 \n",
       "     7      6      8     10     11      9     11     10     10     13      9 \n",
       "   897    898    899    900    901    902    903    904    905    906    907 \n",
       "    12     12     12     10     10      7     10      8      8      6      8 \n",
       "   908    909    910    911    912    913    914    915    916    917    918 \n",
       "     6     10     12      6      7     10      9     12     11     13     12 \n",
       "   919    920    921    922    923    924    925    926    927    928    929 \n",
       "    14     12      6     13      9     16     16      9      7     10      8 \n",
       "   930    931    932    933    934    935    936    937    938    939    940 \n",
       "    11      5      4      7      7      8     13      8      7     11     10 \n",
       "   941    942    943    944    945    946    947    948    949    950    951 \n",
       "    10     16      7      9     10     13     12      9      7      8      4 \n",
       "   952    953    954    955    956    957    958    959    960    961    962 \n",
       "     8      7     13     11      7      7      8     10      7      3     13 \n",
       "   963    964    965    966    967    968    969    970    971    972    973 \n",
       "     6     14      7      7     10     10     16      9     13      4      9 \n",
       "   974    975    976    977    978    979    980    981    982    983    984 \n",
       "    14      9     10      8      7      9     11      7      8     10      8 \n",
       "   985    986    987    988    989    990    991    992    993    994    995 \n",
       "     5     13     11      6      9      7      8     11      4      4      7 \n",
       "   996    997    998    999   1000   1100   1200   1300   1400   1500   1600 \n",
       "    10      6     17      6    429    868    750    636    609    505    410 \n",
       "  1700   1800   1900   2000   2100   2200   2300   2400   2500   2600   2700 \n",
       "   378    344    296    267    238    229    184    198    171    177    167 \n",
       "  2800   2900   3000   3100   3200   3300   3400   3500   3600   3700   3800 \n",
       "   131    131    123    101     92     97     91     80     90     81     94 \n",
       "  3900   4000   4100   4200   4300   4400   4500   4600   4700   4800   4900 \n",
       "    67     56     66     61     47     58     47     62     40     47     37 \n",
       "  5000   5100   5200   5300   5400   5500   5600   5700   5800   5900   6000 \n",
       "    39     44     37     32     41     40     34     41     26     32     25 \n",
       "  6100   6200   6300   6400   6500   6600   6700   6800   6900   7000   7100 \n",
       "    18     26     26     24     39     29     19     20     22     18     13 \n",
       "  7200   7300   7400   7500   7600   7700   7800   7900   8000   8100   8200 \n",
       "    18     17     20     11     24     22     28     22     21     15     11 \n",
       "  8300   8400   8500   8600   8700   8800   8900   9000   9100   9200   9300 \n",
       "    12     14     11     12      7      6      7     13     11     17      8 \n",
       "  9400   9500   9600   9700   9800   9900  10000  10100  10200  10300  10400 \n",
       "    16      7      8     13     13      6      9      9      3     13     10 \n",
       " 10500  10600  10700  10800  10900  11000  11100  11200  11300  11400  11500 \n",
       "     8     13     11      3     11      8     10      9      4     11      8 \n",
       " 11600  11700  11800  11900  12000  12100  12200  12300  12400  12500  12600 \n",
       "     8      6     13      9      3      8      6     10      9      5      6 \n",
       " 12700  12800  12900  13000  13100  13200  13300  13400  13500  13600  13700 \n",
       "     3      7      6      6      3      5      8      5      1      2      6 \n",
       " 13800  13900  14000  14100  14200  14300  14400  14500  14700  14800  14900 \n",
       "     4      9      2      3      1      4      6      6      6      3      4 \n",
       " 15000  15100  15200  15300  15400  15500  15600  15700  15800  15900  16000 \n",
       "     6      3      3      2      2      2      4      4      4      1      2 \n",
       " 16100  16200  16300  16400  16500  16600  16700  16800  16900  17000  17100 \n",
       "     3      2      6      2      1      5      5      4      5      5      7 \n",
       " 17200  17300  17400  17500  17600  17700  17800  17900  18000  18100  18200 \n",
       "     3      3      2      3      4      2      3      2      5      5      5 \n",
       " 18300  18400  18500  18600  18700  18800  19100  19200  19300  19400  19500 \n",
       "     3      3      1      4      2      7      2      4      2      3      1 \n",
       " 19600  19700  19800  19900  20000  20100  20200  20300  20400  20500  20600 \n",
       "     1      1      3      1      2      1      1      3      1      1      1 \n",
       " 20700  20800  20900  21000  21100  21200  21400  21500  21700  21900  22000 \n",
       "     3      2      2      2      1      3      1      1      3      3      2 \n",
       " 22100  22300  22500  22800  23000  23100  23200  23300  23500  23600  23700 \n",
       "     3      4      3      3      3      1      2      1      2      1      2 \n",
       " 24000  24100  24200  24300  24400  24500  24700  24900  25000  25200  25300 \n",
       "     2      2      5      2      2      2      1      2      3      1      1 \n",
       " 25500  25700  26200  26400  26600  26800  26900  27100  27300  27400  27500 \n",
       "     2      1      2      2      1      3      3      3      3      2      2 \n",
       " 27700  28200  28300  29000  29300  29400  29700  29900  30000  30200  30300 \n",
       "     1      3      1      1      1      1      1      1      1      2      1 \n",
       " 30400  31300  31400  31500  31600  31900  32000  32200  32500  33100  33500 \n",
       "     1      3      3      1      1      1      1      3      1      1      1 \n",
       " 33900  34100  34300  34800  35100  35200  35400  35700  35800  36200  36300 \n",
       "     1      1      1      1      3      1      1      1      1      1      1 \n",
       " 36700  37400  37500  37800  38200  38700  38800  38900  39000  39100  39200 \n",
       "     1      1      1      1      1      1      1      1      1      1      1 \n",
       " 39300  39400  39800  40100  40200  40400  42200  42300  42400  42500  42700 \n",
       "     1      1      1      1      1      1      1      1      1      1      1 \n",
       " 43700  46400  47300  48000  48500  48800  49500  50600  50700  51000  51900 \n",
       "     2      1      2      1      1      1      1      1      1      1      1 \n",
       " 52600  53100  53200  55200  55600  56500  56900  57500  59100  60300  61600 \n",
       "     1      1      2      1      1      2      1      1      1      1      1 \n",
       " 62900  63300  64599  67300  67500  67800  68300  69100  69500  70200  71800 \n",
       "     1      1      1      1      1      1      1      1      1      1      1 \n",
       " 71900  75600  77200  77600  82200  83300  87600  88500  96000  96100  98000 \n",
       "     1      1      1      1      1      1      1      1      1      1      1 \n",
       " 98500 104100 109100 109500 112600 138700 193400 197600 210300 663600 \n",
       "     1      1      1      1      1      1      1      1      1      1 "
      ]
     },
     "metadata": {},
     "output_type": "display_data"
    }
   ],
   "source": [
    "table(news_data$shares)"
   ]
  },
  {
   "cell_type": "code",
   "execution_count": 20,
   "id": "7af52ef8-26b6-43d1-ae15-6c433f66fa1d",
   "metadata": {},
   "outputs": [
    {
     "name": "stdout",
     "output_type": "stream",
     "text": [
      "  observed expected\n",
      "1        0        0\n"
     ]
    }
   ],
   "source": [
    "# Step 1: Calculate the observed proportion of zeros\n",
    "observed_zeros <- sum(news_data$shares == 0) / nrow(news_data)\n",
    "\n",
    "# Step 2: Fit a Poisson model\n",
    "poisson_model <- glm(shares ~ channel_type + n_links + n_refs + avg_keyword_popularity + avg_ref_popularity, \n",
    "                     family = poisson(link = \"log\"), data = news_data)\n",
    "\n",
    "# Step 3: Calculate the expected proportion of zeros under the Poisson model\n",
    "predicted_counts <- predict(poisson_model, type = \"response\")\n",
    "expected_zeros <- sum(dpois(0, lambda = predicted_counts)) / nrow(news_data)\n",
    "\n",
    "# Step 4: Compare the observed and expected proportions of zeros\n",
    "observed_vs_expected <- data.frame(observed = observed_zeros, expected = expected_zeros)\n",
    "print(observed_vs_expected)"
   ]
  },
  {
   "cell_type": "markdown",
   "id": "b6844354-d270-4e82-ba01-0e2bd48501a3",
   "metadata": {},
   "source": [
    "Seems we don't have any 0 values for `shares`, thus we won't be worrying about this problem."
   ]
  },
  {
   "cell_type": "markdown",
   "id": "285660df-707d-4301-9176-ee00b6ff3e8f",
   "metadata": {},
   "source": [
    "### <span style=\"color: red\"> 3.2 Linearity"
   ]
  },
  {
   "cell_type": "markdown",
   "id": "5a7a42c7-1dfb-4253-ab73-24b20695d579",
   "metadata": {},
   "source": [
    "https://chat.openai.com/c/1dd549cf-fc23-4d51-b20a-535dec98731a "
   ]
  },
  {
   "cell_type": "code",
   "execution_count": 99,
   "id": "c56cd234-0576-443b-9f1c-1a84451af59c",
   "metadata": {},
   "outputs": [],
   "source": [
    "eda_data <- news_data[,-1]"
   ]
  },
  {
   "cell_type": "code",
   "execution_count": 100,
   "id": "b0edb521-90e2-4631-84db-a0312ff947bb",
   "metadata": {},
   "outputs": [
    {
     "data": {
      "image/png": "[encoded data removed]",
      "text/plain": [
       "plot without title"
      ]
     },
     "metadata": {
      "image/png": {
       "height": 720,
       "width": 900
      }
     },
     "output_type": "display_data"
    }
   ],
   "source": [
    "options(repr.plot.width = 15, repr.plot.height = 12)\n",
    "ggpairs(eda_data, progress = FALSE)"
   ]
  },
  {
   "cell_type": "code",
   "execution_count": 101,
   "id": "c01190ad-f8fc-4f4d-b283-3dc1120f5372",
   "metadata": {},
   "outputs": [
    {
     "data": {
      "image/png": "[encoded data removed]",
      "text/plain": [
       "plot without title"
      ]
     },
     "metadata": {
      "image/png": {
       "height": 420,
       "width": 1080
      }
     },
     "output_type": "display_data"
    }
   ],
   "source": [
    "options(repr.plot.width = 18, repr.plot.height = 7)\n",
    "nb_model <- glm.nb(shares~., data = eda_data)\n",
    "crPlots(nb_model)"
   ]
  },
  {
   "cell_type": "markdown",
   "id": "feaf9a3e-56fa-4acd-b2da-ffd7ace257ec",
   "metadata": {},
   "source": [
    "### <span style=\"color: red\"> 3.3 Multicollinearity\n",
    "\n",
    "#### <span style=\"color: red\"> Correlation Matrix\n",
    "\n",
    "**NOTE:** We will only be displaying correlations that are above 0.5, any correlation below 0.5 will be assigned NA to highlight the significant correlations."
   ]
  },
  {
   "cell_type": "code",
   "execution_count": 129,
   "id": "0e723b6a-92ad-42db-b149-805bef0b6f05",
   "metadata": {},
   "outputs": [
    {
     "name": "stdout",
     "output_type": "stream",
     "text": [
      "\n",
      "Correlation Matrix (>.2):\n"
     ]
    },
    {
     "data": {
      "text/html": [
       "<table class=\"dataframe\">\n",
       "<caption>A matrix: 6 × 6 of type dbl</caption>\n",
       "<thead>\n",
       "\t<tr><th></th><th scope=col>n_links</th><th scope=col>n_refs</th><th scope=col>avg_keyword_popularity</th><th scope=col>avg_ref_popularity</th><th scope=col>shares</th><th scope=col>log_shares</th></tr>\n",
       "</thead>\n",
       "<tbody>\n",
       "\t<tr><th scope=row>n_links</th><td>1.00</td><td>0.42</td><td>NA</td><td>NA</td><td>  NA</td><td>  NA</td></tr>\n",
       "\t<tr><th scope=row>n_refs</th><td>0.42</td><td>1.00</td><td>NA</td><td>NA</td><td>  NA</td><td>  NA</td></tr>\n",
       "\t<tr><th scope=row>avg_keyword_popularity</th><td>  NA</td><td>  NA</td><td> 1</td><td>NA</td><td>  NA</td><td>  NA</td></tr>\n",
       "\t<tr><th scope=row>avg_ref_popularity</th><td>  NA</td><td>  NA</td><td>NA</td><td> 1</td><td>  NA</td><td>  NA</td></tr>\n",
       "\t<tr><th scope=row>shares</th><td>  NA</td><td>  NA</td><td>NA</td><td>NA</td><td>1.00</td><td>0.55</td></tr>\n",
       "\t<tr><th scope=row>log_shares</th><td>  NA</td><td>  NA</td><td>NA</td><td>NA</td><td>0.55</td><td>1.00</td></tr>\n",
       "</tbody>\n",
       "</table>\n"
      ],
      "text/latex": [
       "A matrix: 6 × 6 of type dbl\n",
       "\\begin{tabular}{r|llllll}\n",
       "  & n\\_links & n\\_refs & avg\\_keyword\\_popularity & avg\\_ref\\_popularity & shares & log\\_shares\\\\\n",
       "\\hline\n",
       "\tn\\_links & 1.00 & 0.42 & NA & NA &   NA &   NA\\\\\n",
       "\tn\\_refs & 0.42 & 1.00 & NA & NA &   NA &   NA\\\\\n",
       "\tavg\\_keyword\\_popularity &   NA &   NA &  1 & NA &   NA &   NA\\\\\n",
       "\tavg\\_ref\\_popularity &   NA &   NA & NA &  1 &   NA &   NA\\\\\n",
       "\tshares &   NA &   NA & NA & NA & 1.00 & 0.55\\\\\n",
       "\tlog\\_shares &   NA &   NA & NA & NA & 0.55 & 1.00\\\\\n",
       "\\end{tabular}\n"
      ],
      "text/markdown": [
       "\n",
       "A matrix: 6 × 6 of type dbl\n",
       "\n",
       "| <!--/--> | n_links | n_refs | avg_keyword_popularity | avg_ref_popularity | shares | log_shares |\n",
       "|---|---|---|---|---|---|---|\n",
       "| n_links | 1.00 | 0.42 | NA | NA |   NA |   NA |\n",
       "| n_refs | 0.42 | 1.00 | NA | NA |   NA |   NA |\n",
       "| avg_keyword_popularity |   NA |   NA |  1 | NA |   NA |   NA |\n",
       "| avg_ref_popularity |   NA |   NA | NA |  1 |   NA |   NA |\n",
       "| shares |   NA |   NA | NA | NA | 1.00 | 0.55 |\n",
       "| log_shares |   NA |   NA | NA | NA | 0.55 | 1.00 |\n",
       "\n"
      ],
      "text/plain": [
       "                       n_links n_refs avg_keyword_popularity avg_ref_popularity\n",
       "n_links                1.00    0.42   NA                     NA                \n",
       "n_refs                 0.42    1.00   NA                     NA                \n",
       "avg_keyword_popularity   NA      NA    1                     NA                \n",
       "avg_ref_popularity       NA      NA   NA                      1                \n",
       "shares                   NA      NA   NA                     NA                \n",
       "log_shares               NA      NA   NA                     NA                \n",
       "                       shares log_shares\n",
       "n_links                  NA     NA      \n",
       "n_refs                   NA     NA      \n",
       "avg_keyword_popularity   NA     NA      \n",
       "avg_ref_popularity       NA     NA      \n",
       "shares                 1.00   0.55      \n",
       "log_shares             0.55   1.00      "
      ]
     },
     "metadata": {},
     "output_type": "display_data"
    }
   ],
   "source": [
    "# Create correlation matrix\n",
    "cat(\"\\nCorrelation Matrix (>.2):\\n\")\n",
    "cor_matrix <- cor(news_data[,-1])\n",
    "threshold <- 0.2\n",
    "\n",
    "cor_matrix[abs(cor_matrix) < threshold] <- NA\n",
    "round(cor_matrix, 2)"
   ]
  },
  {
   "cell_type": "markdown",
   "id": "1191c3cf-7744-45ad-8b57-e2d2bbad531d",
   "metadata": {},
   "source": [
    "#### Variance Inflation Factor (VIF) "
   ]
  },
  {
   "cell_type": "code",
   "execution_count": 128,
   "id": "7f83f866-2f3c-4d21-af9e-99feab9b9d41",
   "metadata": {},
   "outputs": [
    {
     "name": "stdout",
     "output_type": "stream",
     "text": [
      "\n",
      "VIF Analysis Scores:\n",
      "          channel_type                n_links                 n_refs \n",
      "                 1.125                  1.253                  1.261 \n",
      "avg_keyword_popularity     avg_ref_popularity             log_shares \n",
      "                 1.091                  1.012                  1.066 \n"
     ]
    }
   ],
   "source": [
    "lm_vif_model <- lm(shares ~., data = news_data)\n",
    "\n",
    "vif <- vif(lm_vif_model)\n",
    "\n",
    "cat(\"\\nVIF Analysis Scores:\\n\")\n",
    "print(round(vif, 3))"
   ]
  },
  {
   "cell_type": "markdown",
   "id": "cd2f81aa-7377-43ba-9351-cd99f19c8fd0",
   "metadata": {},
   "source": [
    "#### <span style=\"color: red\"> Observations:\n",
    "\n",
    "1. The response variable `shares` is very skewed. We will use Negative Binomial Regression as well as Poisson Regression.\n",
    "\n",
    "2. Altough it is hard to make conlcusions from visualizations since the dataset is very large, there seems to be a linear relationship, yet the relationships appear to be quite weak for all explanatroy variables. \n",
    "\n",
    "3. Results indicate that _multicollinearity_ is not a problem anymore since all VIF scores are relatively low (<1.3)\n",
    "\n",
    "In _**Poisson regression**_ it's crucial that the mean equals the variance for the count data. In this case, this assumption is violated. \n",
    "\n",
    "Thus, we will use **_Negative Binomial Regression_** for the analysis since it better handles for _overdispersion_.  "
   ]
  },
  {
   "cell_type": "markdown",
   "id": "5d23dd4e-3f04-46c9-9737-1e1b8cd79d8e",
   "metadata": {},
   "source": [
    "### <span style=\"color: red\"> 3.4 EDA Plots"
   ]
  },
  {
   "cell_type": "markdown",
   "id": "c93987b4-e754-4624-8f04-b27a73f45297",
   "metadata": {},
   "source": [
    "#### <span style=\"color: red\"> Density Plot of Response (shares)"
   ]
  },
  {
   "cell_type": "code",
   "execution_count": 105,
   "id": "3c47a77a-7129-4144-bd1c-5fc69a838281",
   "metadata": {},
   "outputs": [
    {
     "name": "stderr",
     "output_type": "stream",
     "text": [
      "\u001b[1m\u001b[22mScale for \u001b[32mx\u001b[39m is already present.\n",
      "Adding another scale for \u001b[32mx\u001b[39m, which will replace the existing scale.\n",
      "Warning message:\n",
      "\"\u001b[1m\u001b[22mRemoved 376 rows containing non-finite values (`stat_density()`).\"\n"
     ]
    },
    {
     "data": {
      "image/png": "[encoded data removed]",
      "text/plain": [
       "plot without title"
      ]
     },
     "metadata": {
      "image/png": {
       "height": 480,
       "width": 1140
      }
     },
     "output_type": "display_data"
    }
   ],
   "source": [
    "# Density plot of shares\n",
    "density_plot <- news_data %>%\n",
    "    ggplot(aes(x=shares, color = channel_type, fill = channel_type)) +\n",
    "    geom_density(alpha = .5) +\n",
    "    scale_y_continuous(labels = scales::comma) +\n",
    "    scale_x_continuous(labels = scales::comma) +\n",
    "    labs(x=\"Number of Shares\", y=\"Count\") +\n",
    "    theme_minimal() +\n",
    "    theme(axis.title.x = element_text(size = 22),\n",
    "          axis.title.y = element_text(size = 20),\n",
    "          axis.text.x = element_text(angle = 45, vjust = 1.5, hjust=1, size = 16),\n",
    "          axis.text.y = element_text(angle = 0, vjust = 1, hjust=1.5, size = 16),\n",
    "          legend.position = \"none\"\n",
    "         )\n",
    "\n",
    "# Density plot of shares, zoomed in\n",
    "density_plot_zoom <- density_plot +\n",
    "    xlim(0, 15000) +\n",
    "    labs(x=\"Number of Shares Zoomed (shares 0-15000)\") +\n",
    "    theme(legend.position = \"right\") \n",
    "\n",
    "\n",
    "# Set plot size for a specific plot\n",
    "options(repr.plot.width = 19, repr.plot.height = 8)\n",
    "# Create an empty plot for spacing\n",
    "spacer <- ggplot() + theme_void()\n",
    "# Use plot_grid to arrange the plots side by side\n",
    "plot_grid(density_plot, spacer, density_plot_zoom, ncol = 3, rel_widths = c(1, 0.2, 1.25))"
   ]
  },
  {
   "cell_type": "markdown",
   "id": "47e1daf7-cc59-4ae5-8606-b5ce1d694011",
   "metadata": {},
   "source": [
    "We can see some extreme values, with **some articles reaching over 500k shares** which makes it hard to visualize the statistics of the rest of the data. \n",
    "\n",
    "This heavy right skewed distribution isn't surprising due to the nature of the `shares` variable. The number of shares of a given article can't hold a negative value. It can either be not shared at all, with 0 shares, or any integer value [0, $+inf$]. Thus, naturally we expect a right skewed data. We assume that these extreme values are geniune data, and not data-entry errors.\n",
    "\n",
    "We'll try to deal with this these extreme values and the right skew by applying a **log transformation** to the `shares` column. We will visualize the response variable after the transformation. We won't use logarithmic shares for the regression analysis. "
   ]
  },
  {
   "cell_type": "markdown",
   "id": "6aa34642-15e7-4b04-8529-3fa29e8df280",
   "metadata": {},
   "source": [
    "#### <span style=\"color: red\"> Boxplot of Response (shares per channel type)"
   ]
  },
  {
   "cell_type": "code",
   "execution_count": 124,
   "id": "d6122d5c-d0f5-4785-b1fd-bffa92bd34dc",
   "metadata": {},
   "outputs": [
    {
     "data": {
      "image/png": "[encoded data removed]",
      "text/plain": [
       "plot without title"
      ]
     },
     "metadata": {
      "image/png": {
       "height": 480,
       "width": 1140
      }
     },
     "output_type": "display_data"
    }
   ],
   "source": [
    "# Applying log transformation\n",
    "news_data$log_shares <- log(news_data$shares)\n",
    "\n",
    "# Box plot of the channel_types on Logarithmic shares\n",
    "box1_log <- news_data %>% ggplot(aes(x = channel_type, y = log_shares, color = channel_type)) +\n",
    "    geom_boxplot() +\n",
    "    scale_y_continuous(labels = comma) +\n",
    "    labs(title = \"Boxplot of all channel types (logarithmic)\",\n",
    "         y = \"Number of shares\",\n",
    "         x = \"Channel types\",\n",
    "         color = \"Channel Types\") +\n",
    "    theme(text = element_text(size = 20),\n",
    "          axis.title.x = element_text(size = 22),\n",
    "          axis.title.y = element_text(size = 20),\n",
    "          axis.text.x = element_text(size = 20),\n",
    "          legend.position=\"none\")\n",
    "box1_log"
   ]
  },
  {
   "cell_type": "markdown",
   "id": "be9d1194-ce6d-45df-b7c0-ca37559b73f9",
   "metadata": {},
   "source": [
    "#### <span style=\"color: red\"> Observations:\n",
    "\n",
    "1. By using the logarithmic shares, we see that the **outliers seem very significant**.\n",
    "2. Tech channel seems to have more shares overall. We will analyize if the effects of the explanatory variables  differ singificantly between these channels. \n",
    "\n",
    "We'll investigate these extreme values and the distribution of the data by generating some summary statistics using `describe()` and `quantiles` functions."
   ]
  },
  {
   "cell_type": "code",
   "execution_count": 123,
   "id": "8c35753d-b85f-4414-a1d0-55af0e073e41",
   "metadata": {},
   "outputs": [
    {
     "name": "stdout",
     "output_type": "stream",
     "text": [
      "\n",
      "Describe the general distribtuion:\n"
     ]
    },
    {
     "data": {
      "text/html": [
       "<table class=\"dataframe\">\n",
       "<caption>A psych: 1 × 13</caption>\n",
       "<thead>\n",
       "\t<tr><th></th><th scope=col>vars</th><th scope=col>n</th><th scope=col>mean</th><th scope=col>sd</th><th scope=col>median</th><th scope=col>trimmed</th><th scope=col>mad</th><th scope=col>min</th><th scope=col>max</th><th scope=col>range</th><th scope=col>skew</th><th scope=col>kurtosis</th><th scope=col>se</th></tr>\n",
       "\t<tr><th></th><th scope=col>&lt;dbl&gt;</th><th scope=col>&lt;dbl&gt;</th><th scope=col>&lt;dbl&gt;</th><th scope=col>&lt;dbl&gt;</th><th scope=col>&lt;dbl&gt;</th><th scope=col>&lt;dbl&gt;</th><th scope=col>&lt;dbl&gt;</th><th scope=col>&lt;dbl&gt;</th><th scope=col>&lt;dbl&gt;</th><th scope=col>&lt;dbl&gt;</th><th scope=col>&lt;dbl&gt;</th><th scope=col>&lt;dbl&gt;</th><th scope=col>&lt;dbl&gt;</th></tr>\n",
       "</thead>\n",
       "<tbody>\n",
       "\t<tr><th scope=row>X1</th><td>1</td><td>14403</td><td>3022.406</td><td>8472.879</td><td>1400</td><td>1825.686</td><td>889.56</td><td>36</td><td>663600</td><td>663564</td><td>38.32556</td><td>2649.775</td><td>70.59997</td></tr>\n",
       "</tbody>\n",
       "</table>\n"
      ],
      "text/latex": [
       "A psych: 1 × 13\n",
       "\\begin{tabular}{r|lllllllllllll}\n",
       "  & vars & n & mean & sd & median & trimmed & mad & min & max & range & skew & kurtosis & se\\\\\n",
       "  & <dbl> & <dbl> & <dbl> & <dbl> & <dbl> & <dbl> & <dbl> & <dbl> & <dbl> & <dbl> & <dbl> & <dbl> & <dbl>\\\\\n",
       "\\hline\n",
       "\tX1 & 1 & 14403 & 3022.406 & 8472.879 & 1400 & 1825.686 & 889.56 & 36 & 663600 & 663564 & 38.32556 & 2649.775 & 70.59997\\\\\n",
       "\\end{tabular}\n"
      ],
      "text/markdown": [
       "\n",
       "A psych: 1 × 13\n",
       "\n",
       "| <!--/--> | vars &lt;dbl&gt; | n &lt;dbl&gt; | mean &lt;dbl&gt; | sd &lt;dbl&gt; | median &lt;dbl&gt; | trimmed &lt;dbl&gt; | mad &lt;dbl&gt; | min &lt;dbl&gt; | max &lt;dbl&gt; | range &lt;dbl&gt; | skew &lt;dbl&gt; | kurtosis &lt;dbl&gt; | se &lt;dbl&gt; |\n",
       "|---|---|---|---|---|---|---|---|---|---|---|---|---|---|\n",
       "| X1 | 1 | 14403 | 3022.406 | 8472.879 | 1400 | 1825.686 | 889.56 | 36 | 663600 | 663564 | 38.32556 | 2649.775 | 70.59997 |\n",
       "\n"
      ],
      "text/plain": [
       "   vars n     mean     sd       median trimmed  mad    min max    range \n",
       "X1 1    14403 3022.406 8472.879 1400   1825.686 889.56 36  663600 663564\n",
       "   skew     kurtosis se      \n",
       "X1 38.32556 2649.775 70.59997"
      ]
     },
     "metadata": {},
     "output_type": "display_data"
    },
    {
     "name": "stdout",
     "output_type": "stream",
     "text": [
      "\n",
      "Exhibit the quantiles:\n"
     ]
    },
    {
     "data": {
      "text/html": [
       "<style>\n",
       ".dl-inline {width: auto; margin:0; padding: 0}\n",
       ".dl-inline>dt, .dl-inline>dd {float: none; width: auto; display: inline-block}\n",
       ".dl-inline>dt::after {content: \":\\0020\"; padding-right: .5ex}\n",
       ".dl-inline>dt:not(:first-of-type) {padding-left: .5ex}\n",
       "</style><dl class=dl-inline><dt>0%</dt><dd>36</dd><dt>5%</dt><dd>585</dd><dt>10%</dt><dd>709</dd><dt>15%</dt><dd>794</dd><dt>20%</dt><dd>868</dd><dt>25%</dt><dd>942</dd><dt>30%</dt><dd>1000</dd><dt>35%</dt><dd>1100</dd><dt>40%</dt><dd>1200</dd><dt>45%</dt><dd>1300</dd><dt>50%</dt><dd>1400</dd><dt>55%</dt><dd>1600</dd><dt>60%</dt><dd>1700</dd><dt>65%</dt><dd>2000</dd><dt>70%</dt><dd>2300</dd><dt>75%</dt><dd>2700</dd><dt>80%</dt><dd>3200</dd><dt>85%</dt><dd>4100</dd><dt>90%</dt><dd>5700</dd><dt>95%</dt><dd>9800</dd><dt>100%</dt><dd>663600</dd></dl>\n"
      ],
      "text/latex": [
       "\\begin{description*}\n",
       "\\item[0\\textbackslash{}\\%] 36\n",
       "\\item[5\\textbackslash{}\\%] 585\n",
       "\\item[10\\textbackslash{}\\%] 709\n",
       "\\item[15\\textbackslash{}\\%] 794\n",
       "\\item[20\\textbackslash{}\\%] 868\n",
       "\\item[25\\textbackslash{}\\%] 942\n",
       "\\item[30\\textbackslash{}\\%] 1000\n",
       "\\item[35\\textbackslash{}\\%] 1100\n",
       "\\item[40\\textbackslash{}\\%] 1200\n",
       "\\item[45\\textbackslash{}\\%] 1300\n",
       "\\item[50\\textbackslash{}\\%] 1400\n",
       "\\item[55\\textbackslash{}\\%] 1600\n",
       "\\item[60\\textbackslash{}\\%] 1700\n",
       "\\item[65\\textbackslash{}\\%] 2000\n",
       "\\item[70\\textbackslash{}\\%] 2300\n",
       "\\item[75\\textbackslash{}\\%] 2700\n",
       "\\item[80\\textbackslash{}\\%] 3200\n",
       "\\item[85\\textbackslash{}\\%] 4100\n",
       "\\item[90\\textbackslash{}\\%] 5700\n",
       "\\item[95\\textbackslash{}\\%] 9800\n",
       "\\item[100\\textbackslash{}\\%] 663600\n",
       "\\end{description*}\n"
      ],
      "text/markdown": [
       "0%\n",
       ":   365%\n",
       ":   58510%\n",
       ":   70915%\n",
       ":   79420%\n",
       ":   86825%\n",
       ":   94230%\n",
       ":   100035%\n",
       ":   110040%\n",
       ":   120045%\n",
       ":   130050%\n",
       ":   140055%\n",
       ":   160060%\n",
       ":   170065%\n",
       ":   200070%\n",
       ":   230075%\n",
       ":   270080%\n",
       ":   320085%\n",
       ":   410090%\n",
       ":   570095%\n",
       ":   9800100%\n",
       ":   663600\n",
       "\n"
      ],
      "text/plain": [
       "    0%     5%    10%    15%    20%    25%    30%    35%    40%    45%    50% \n",
       "    36    585    709    794    868    942   1000   1100   1200   1300   1400 \n",
       "   55%    60%    65%    70%    75%    80%    85%    90%    95%   100% \n",
       "  1600   1700   2000   2300   2700   3200   4100   5700   9800 663600 "
      ]
     },
     "metadata": {},
     "output_type": "display_data"
    }
   ],
   "source": [
    "cat(\"\\nDescribe the general distribtuion:\\n\")\n",
    "describe(news_data$shares)\n",
    "cat(\"\\nExhibit the quantiles:\\n\")\n",
    "quantile(x = news_data$shares, probs = seq(0, 1, by = 0.05))"
   ]
  }
 ],
 "metadata": {
  "kernelspec": {
   "display_name": "R",
   "language": "R",
   "name": "ir"
  },
  "language_info": {
   "codemirror_mode": "r",
   "file_extension": ".r",
   "mimetype": "text/x-r-source",
   "name": "R",
   "pygments_lexer": "r",
   "version": "4.2.2"
  }
 },
 "nbformat": 4,
 "nbformat_minor": 5
}
